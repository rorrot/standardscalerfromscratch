{
 "cells": [
  {
   "cell_type": "markdown",
   "metadata": {},
   "source": [
    "Créer une class StandardScaler2 avec comme méthode fit, transform, fit_transform et en attribut un dicitonnaire params_ qui contient la moyenne et l'écart_type de vos données. Les données en entrées sont uniquement de array numpy (pas des dataframes)\n",
    "me dire que vous avez terminé avant de faire le bonus.\n",
    "en bonus :\n",
    "- mettre une erreur si on essaye de transform sans avoir de fit\n",
    "- permettre au code de fonctionner, peut importe si l'entrée est une numpy array ou une dataframe"
   ]
  },
  {
   "cell_type": "code",
   "execution_count": 1,
   "metadata": {},
   "outputs": [],
   "source": [
    "import numpy as np\n",
    "\n",
    "df = np.array([[ 1., -1.,  2.],\n",
    "              [ 2.,  0.,  0.],\n",
    "              [ 0.,  1., -1.]])"
   ]
  },
  {
   "cell_type": "code",
   "execution_count": 2,
   "metadata": {},
   "outputs": [],
   "source": [
    "class StandardScaler2():\n",
    "    def __init__(self):\n",
    "        self.params_ = {}\n",
    "    \n",
    "    def fit(self, X):\n",
    "        self.params_['mean'] = np.mean(X)\n",
    "        self.params_['std'] = np.std(X)\n",
    "        return self\n",
    "    \n",
    "    def fit_transform(self, X):\n",
    "        return (X - self.params_['mean']) / self.params_['std']  \n",
    "      \n",
    "        \n",
    "     \n",
    "scaler = StandardScaler2()     "
   ]
  },
  {
   "cell_type": "code",
   "execution_count": 4,
   "metadata": {},
   "outputs": [
    {
     "name": "stdout",
     "output_type": "stream",
     "text": [
      "<__main__.StandardScaler2 object at 0x0000021A943C7948>\n",
      "mean : {'mean': 0.4444444444444444, 'std': 1.0657403385139377}\n",
      "[[ 0.52128604 -1.35534369  1.4596009 ]\n",
      " [ 1.4596009  -0.41702883 -0.41702883]\n",
      " [-0.41702883  0.52128604 -1.35534369]]\n"
     ]
    }
   ],
   "source": [
    "df = np.array(df)\n",
    "print(scaler.fit(df))\n",
    "print('mean :', scaler.params_)\n",
    "print(scaler.fit_transform(df))\n"
   ]
  }
 ],
 "metadata": {
  "kernelspec": {
   "display_name": "Python 3",
   "language": "python",
   "name": "python3"
  },
  "language_info": {
   "codemirror_mode": {
    "name": "ipython",
    "version": 3
   },
   "file_extension": ".py",
   "mimetype": "text/x-python",
   "name": "python",
   "nbconvert_exporter": "python",
   "pygments_lexer": "ipython3",
   "version": "3.7.4"
  }
 },
 "nbformat": 4,
 "nbformat_minor": 2
}
